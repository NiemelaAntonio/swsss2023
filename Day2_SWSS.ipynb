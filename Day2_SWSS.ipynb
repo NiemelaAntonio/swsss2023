{
 "cells": [
  {
   "cell_type": "markdown",
   "metadata": {},
   "source": [
    "# The zip function:\n",
    "\n",
    "generates tuples of its agrguments sequentially. Each element is each of the elements of the list together. That would be that the first one is mapped to the firts one of the second list, and the first one of the third list..."
   ]
  },
  {
   "cell_type": "code",
   "execution_count": 1,
   "metadata": {},
   "outputs": [
    {
     "name": "stdout",
     "output_type": "stream",
     "text": [
      "[('a', 21, 'Pink'), ('b', 30, 'Gray'), ('c', 45, 'Blue')]\n",
      "a 21 Pink\n",
      "b 30 Gray\n",
      "c 45 Blue\n",
      "[('b', 30, 'Gray'), ('c', 45, 'Blue')]\n"
     ]
    }
   ],
   "source": [
    "names = ['a','b','c']\n",
    "ages  = [21,30,45]\n",
    "favourite_colours = ['Pink','Gray','Blue']\n",
    "print(list(zip(names,ages,favourite_colours)))\n",
    "for name,age,colour in zip(names,ages,favourite_colours):\n",
    "    print(name,age,colour)\n",
    "asdf = list(zip(names,ages,favourite_colours))\n",
    "print(asdf[1:])"
   ]
  },
  {
   "cell_type": "code",
   "execution_count": 2,
   "metadata": {},
   "outputs": [
    {
     "name": "stdout",
     "output_type": "stream",
     "text": [
      "2009-12-01T00:00:00\n",
      "2009-12-02T00:00:00\n",
      "2009-12-03T00:00:00\n",
      "2009-12-04T00:00:00\n",
      "2009-12-05T00:00:00\n",
      "2009-12-06T00:00:00\n",
      "2009-12-07T00:00:00\n",
      "2009-12-08T00:00:00\n",
      "2009-12-09T00:00:00\n",
      "2009-12-10T00:00:00\n",
      "10\n"
     ]
    }
   ],
   "source": [
    "from datetime import datetime\n",
    "num_of_days = 10\n",
    "years = [2009] *num_of_days\n",
    "months= [12]   *num_of_days\n",
    "days  = list(range(1,11))\n",
    "\n",
    "times = [datetime(year,month,day)\n",
    "         for year,month,day\n",
    "         in zip(years,months,days)]\n",
    "for time in times:\n",
    "    print(time.isoformat())\n",
    "print(len(times))"
   ]
  },
  {
   "cell_type": "code",
   "execution_count": 3,
   "metadata": {},
   "outputs": [
    {
     "data": {
      "image/png": "[encoded data removed]",
      "text/plain": [
       "<Figure size 432x288 with 2 Axes>"
      ]
     },
     "metadata": {
      "needs_background": "light"
     },
     "output_type": "display_data"
    }
   ],
   "source": [
    "import numpy as np\n",
    "import matplotlib.pyplot as plt\n",
    "\n",
    "num_of_x   = 10\n",
    "num_of_y   = 20\n",
    "x          = np.linspace(0,1,num_of_x)\n",
    "y          = np.linspace(0,1,num_of_y)\n",
    "z          = np.random.randn(num_of_y,num_of_x)\n",
    "plt.pcolormesh(x,y,z)\n",
    "cbar = plt.colorbar()\n",
    "\n"
   ]
  },
  {
   "cell_type": "markdown",
   "metadata": {},
   "source": [
    "# Now we are going to work with NetCDF files"
   ]
  },
  {
   "cell_type": "code",
   "execution_count": 9,
   "metadata": {
    "scrolled": true
   },
   "outputs": [],
   "source": [
    "#conda install netcdf4\n",
    "import netCDF4 as nc\n",
    "import os"
   ]
  },
  {
   "cell_type": "code",
   "execution_count": 25,
   "metadata": {},
   "outputs": [
    {
     "name": "stdout",
     "output_type": "stream",
     "text": [
      "wfs.t06z.ipe05.20230724_060000.nc\n"
     ]
    }
   ],
   "source": [
    "Path_to_Files = 'C:/Users/u0142106/Desktop/SpaceWeatherSummerSchool/swsss2023/Data_Day2/'\n",
    "All_Files     = os.listdir(Path_to_Files)\n",
    "print(All_Files[19])\n",
    "Dataset       =nc.Dataset(Path_to_Files+All_Files[19])"
   ]
  },
  {
   "cell_type": "code",
   "execution_count": 26,
   "metadata": {},
   "outputs": [
    {
     "name": "stdout",
     "output_type": "stream",
     "text": [
      "{'lon': <class 'netCDF4._netCDF4.Variable'>\n",
      "float32 lon(x01)\n",
      "    long_name: longitude\n",
      "    units: degrees_east\n",
      "unlimited dimensions: \n",
      "current shape = (90,)\n",
      "filling on, default _FillValue of 9.969209968386869e+36 used, 'lat': <class 'netCDF4._netCDF4.Variable'>\n",
      "float32 lat(x02)\n",
      "    long_name: latitude\n",
      "    units: degrees_north\n",
      "unlimited dimensions: \n",
      "current shape = (91,)\n",
      "filling on, default _FillValue of 9.969209968386869e+36 used, 'alt': <class 'netCDF4._netCDF4.Variable'>\n",
      "float32 alt(x03)\n",
      "    long_name: altitude\n",
      "    units: km\n",
      "unlimited dimensions: \n",
      "current shape = (109,)\n",
      "filling on, default _FillValue of 9.969209968386869e+36 used, 'tec': <class 'netCDF4._netCDF4.Variable'>\n",
      "float32 tec(x02, x01)\n",
      "    long_name: tec\n",
      "    units: TECu\n",
      "unlimited dimensions: \n",
      "current shape = (91, 90)\n",
      "filling on, default _FillValue of 9.969209968386869e+36 used, 'NmF2': <class 'netCDF4._netCDF4.Variable'>\n",
      "float32 NmF2(x02, x01)\n",
      "    long_name: NmF2\n",
      "    units: m-3\n",
      "unlimited dimensions: \n",
      "current shape = (91, 90)\n",
      "filling on, default _FillValue of 9.969209968386869e+36 used, 'HmF2': <class 'netCDF4._netCDF4.Variable'>\n",
      "float32 HmF2(x02, x01)\n",
      "    long_name: HmF2\n",
      "    units: km\n",
      "unlimited dimensions: \n",
      "current shape = (91, 90)\n",
      "filling on, default _FillValue of 9.969209968386869e+36 used}\n"
     ]
    },
    {
     "name": "stderr",
     "output_type": "stream",
     "text": [
      "<ipython-input-26-99ddddfe9296>:1: DeprecationWarning: tostring() is deprecated. Use tobytes() instead.\n",
      "  print(Dataset.variables)\n"
     ]
    }
   ],
   "source": [
    "print(Dataset.variables)"
   ]
  },
  {
   "cell_type": "code",
   "execution_count": 33,
   "metadata": {},
   "outputs": [
    {
     "name": "stdout",
     "output_type": "stream",
     "text": [
      "lon\n",
      "lat\n",
      "alt\n",
      "tec\n",
      "NmF2\n",
      "HmF2\n",
      "(91, 90)\n",
      "TECu\n"
     ]
    },
    {
     "name": "stderr",
     "output_type": "stream",
     "text": [
      "<ipython-input-33-5ef6d8924eb3>:3: DeprecationWarning: `np.bool` is a deprecated alias for the builtin `bool`. To silence this warning, use `bool` by itself. Doing this will not modify any behavior and is safe. If you specifically wanted the numpy scalar type, use `np.bool_` here.\n",
      "Deprecated in NumPy 1.20; for more details and guidance: https://numpy.org/devdocs/release/1.20.0-notes.html#deprecations\n",
      "  Tec_content = Dataset['tec'][:]\n",
      "<ipython-input-33-5ef6d8924eb3>:6: DeprecationWarning: tostring() is deprecated. Use tobytes() instead.\n",
      "  print(Dataset['tec'].units)\n"
     ]
    }
   ],
   "source": [
    "for variables in Dataset.variables:\n",
    "    print(variables)\n",
    "Tec_content = Dataset['tec'][:]\n",
    "\n",
    "print(np.shape(Tec_content))\n",
    "print(Dataset['tec'].units)"
   ]
  },
  {
   "cell_type": "code",
   "execution_count": 34,
   "metadata": {},
   "outputs": [],
   "source": [
    "def plot_tec(dataset , figsize=(12,6)):\n",
    "    fig,ax = plt.figure(figsize= figsize)\n",
    "    ax.pcolormesh()\n",
    "    return fig,ax"
   ]
  },
  {
   "cell_type": "markdown",
   "metadata": {},
   "source": [
    "# This is for OMNI DATA reading"
   ]
  },
  {
   "cell_type": "code",
   "execution_count": 81,
   "metadata": {},
   "outputs": [],
   "source": [
    "from os import listdir\n",
    "import pandas as pd\n",
    "import numpy as np\n",
    "import matplotlib.pyplot as plt\n",
    "from matplotlib.dates import DayLocator, HourLocator, DateFormatter\n",
    "import datetime\n",
    "from datetime import timedelta\n",
    "import matplotlib.dates as mdates\n",
    "from matplotlib.ticker import (MultipleLocator, FormatStrFormatter,\n",
    "                               AutoMinorLocator)\n",
    "from ai import cdas,cs\n",
    "import ssl\n",
    "\n",
    "ssl._create_default_https_context = ssl._create_unverified_context"
   ]
  },
  {
   "cell_type": "code",
   "execution_count": 92,
   "metadata": {},
   "outputs": [],
   "source": [
    "# file = open(\"C:/Users/u0142106/Desktop/SpaceWeatherSummerSchool/swsss2023/day_02/omni2_DST.lst\")\n",
    "# line = file.readline()\n",
    "#print(line)\n",
    "# file.close()\n",
    "nlines = 3\n",
    "Year  = []\n",
    "DOY   = []\n",
    "Hour  = []\n",
    "Minute= []\n",
    "DST   = []\n",
    "with open(\"C:/Users/u0142106/Desktop/SpaceWeatherSummerSchool/swsss2023/day_02/omni2_DST.lst\") as File:\n",
    "    \n",
    "    #header        = File.readline()\n",
    "    #print('this is header= '+str(header))\n",
    "    #variables     = header.split()\n",
    "    #print('this is variables= '+str(variables))\n",
    "    \n",
    "    for line in File:\n",
    "        tmp  = line.split()\n",
    "        Year.append(int(tmp[0]))\n",
    "        DOY.append(int(tmp[1]))\n",
    "        Hour.append(int(tmp[2]))\n",
    "        #Minute.append(int(tmp[3]))\n",
    "        DST.append(int(tmp[3]))\n",
    "        "
   ]
  },
  {
   "cell_type": "code",
   "execution_count": 108,
   "metadata": {},
   "outputs": [
    {
     "name": "stdout",
     "output_type": "stream",
     "text": [
      "This is line1\n",
      "\n",
      "This is Line2\n",
      "\n",
      "This is Line3\n",
      "\n",
      "this is header= Year  Day  Hour  Minute  SYM-H\n",
      "\n",
      "this is variables= ['Year', 'Day', 'Hour', 'Minute', 'SYM-H']\n",
      "2013-03-16 00:00:00\n",
      "2013-03-16 00:01:00\n",
      "2013-03-16 00:02:00\n",
      "2013-03-16 00:03:00\n",
      "2013-03-16 00:04:00\n",
      "2013-03-16 00:05:00\n",
      "2013-03-16 00:06:00\n",
      "2013-03-16 00:07:00\n",
      "2013-03-16 00:08:00\n",
      "2013-03-16 00:09:00\n",
      "[datetime.datetime(2013, 3, 16, 0, 0), datetime.datetime(2013, 3, 16, 0, 1), datetime.datetime(2013, 3, 16, 0, 2), datetime.datetime(2013, 3, 16, 0, 3), datetime.datetime(2013, 3, 16, 0, 4), datetime.datetime(2013, 3, 16, 0, 5), datetime.datetime(2013, 3, 16, 0, 6), datetime.datetime(2013, 3, 16, 0, 7), datetime.datetime(2013, 3, 16, 0, 8), datetime.datetime(2013, 3, 16, 0, 9)]\n"
     ]
    }
   ],
   "source": [
    "nlines = 3\n",
    "Year  = []\n",
    "DOY   = []\n",
    "Hour  = []\n",
    "Minute= []\n",
    "DST   = []\n",
    "Times = []\n",
    "with open(\"C:/Users/u0142106/Desktop/SpaceWeatherSummerSchool/swsss2023/day_02/omni_test.lst\") as File:\n",
    "    for i in range(nlines):\n",
    "        print(File.readline())\n",
    "    header        = File.readline()\n",
    "    print('this is header= '+str(header))\n",
    "    variables     = header.split()\n",
    "    print('this is variables= '+str(variables))\n",
    "    \n",
    "    for line in File:\n",
    "        tmp  = line.split()\n",
    "        Year.append(int(tmp[0]))\n",
    "        DOY.append(int(tmp[1]))\n",
    "        Hour.append(int(tmp[2]))\n",
    "        Minute.append(int(tmp[3]))\n",
    "        DST.append(int(tmp[4]))\n",
    "        datetime1 = datetime.datetime(int(tmp[0]),\n",
    "                                     1,\n",
    "                                     1,\n",
    "                                     int(tmp[2]),\n",
    "                                     int(tmp[3]))+datetime.timedelta(days =int(tmp[1])-1)\n",
    "        print(datetime1)\n",
    "        Times.append(datetime1)\n",
    "print(Times)"
   ]
  },
  {
   "cell_type": "code",
   "execution_count": 110,
   "metadata": {},
   "outputs": [
    {
     "data": {
      "text/plain": [
       "[<matplotlib.lines.Line2D at 0x1c7cc4603a0>]"
      ]
     },
     "execution_count": 110,
     "metadata": {},
     "output_type": "execute_result"
    },
    {
     "data": {
      "image/png": "[encoded data removed]",
      "text/plain": [
       "<Figure size 432x288 with 1 Axes>"
      ]
     },
     "metadata": {
      "needs_background": "light"
     },
     "output_type": "display_data"
    }
   ],
   "source": [
    "plt.plot(Times,DST)"
   ]
  },
  {
   "cell_type": "code",
   "execution_count": null,
   "metadata": {},
   "outputs": [],
   "source": []
  },
  {
   "cell_type": "code",
   "execution_count": null,
   "metadata": {},
   "outputs": [],
   "source": [
    "Bis_Datetime_Erne = []\n",
    "for i in range(len(Bis_Erne_data_read[0])):\n",
    "    Year=Bis_Erne_data_read[0][i]\n",
    "    DOY=Bis_Erne_data_read[1][i]\n",
    "    Hour=Bis_Erne_data_read[2][i]\n",
    "    Min=Bis_Erne_data_read[3][i]\n",
    "    Date=datetime.strptime(str(Year)+str('-')+str(DOY)+str('-')+str(Hour)+str('-')+str(Min),'%Y-%j-%H-%M')\n",
    "    #print(Date)\n",
    "    Bis_Datetime_Erne.append(Date)"
   ]
  },
  {
   "cell_type": "code",
   "execution_count": 129,
   "metadata": {},
   "outputs": [
    {
     "name": "stdout",
     "output_type": "stream",
     "text": [
      "sunpy.net.Fido\n",
      "\n",
      "Fido is a unified data search and retrieval tool.\n",
      "\n",
      "It provides simultaneous access to a variety of online data sources, some\n",
      "cover multiple instruments and data products like the Virtual Solar\n",
      "Observatory and some are specific to a single source.\n",
      "\n",
      "For details of using `~sunpy.net.Fido` see :ref:`fido_guide`.\n",
      "\n",
      "\n",
      "      Client      ...\n",
      "----------------- ...\n",
      "CDAWEBClient      ...\n",
      "EVEClient         ...\n",
      "GBMClient         ...\n",
      "XRSClient         ...\n",
      "SUVIClient        ...\n",
      "GONGClient        ...\n",
      "LYRAClient        ...\n",
      "NOAAIndicesClient ...\n",
      "NOAAPredictClient ...\n",
      "SRSClient         ...\n",
      "NoRHClient        ...\n",
      "RHESSIClient      ...\n",
      "HEKClient         ...\n",
      "HECClient         ...\n",
      "JSOCClient        ...\n",
      "VSOClient         ...\n"
     ]
    }
   ],
   "source": [
    "from sunpy.net import Fido, attrs as a\n",
    "import astropy.units as u\n",
    "print(Fido)\n"
   ]
  },
  {
   "cell_type": "code",
   "execution_count": 131,
   "metadata": {},
   "outputs": [
    {
     "name": "stdout",
     "output_type": "stream",
     "text": [
      "Results from 1 Provider:\n",
      "\n",
      "1 Results from the CDAWEBClient:\n",
      "Source: https://cdaweb.gsfc.nasa.gov/index.html\n",
      "\n",
      "     Dataset             Start time               End time       \n",
      "----------------- ----------------------- -----------------------\n",
      "MESSENGER_MAG_RTN 2012-03-04 00:00:00.000 2012-03-04 23:59:59.000\n",
      "\n",
      "\n"
     ]
    }
   ],
   "source": [
    "Messenger_RTN = a.cdaweb.Dataset.messenger_mag_rtn\n",
    "Messenger_RTN = Fido.search(a.Time('2012/3/4', '2012/3/4'), a.cdaweb.Dataset.messenger_mag_rtn)\n",
    "print(Messenger_RTN)"
   ]
  },
  {
   "cell_type": "code",
   "execution_count": 135,
   "metadata": {},
   "outputs": [
    {
     "name": "stdout",
     "output_type": "stream",
     "text": [
      "Results from 1 Provider:\n",
      "\n",
      "5 Results from the CDAWEBClient:\n",
      "Source: https://cdaweb.gsfc.nasa.gov/index.html\n",
      "\n",
      "     Dataset             Start time               End time       \n",
      "----------------- ----------------------- -----------------------\n",
      "MESSENGER_MAG_RTN 2014-02-16 00:00:00.000 2014-02-16 23:59:59.000\n",
      "MESSENGER_MAG_RTN 2014-02-17 00:00:00.000 2014-02-17 23:59:59.000\n",
      "MESSENGER_MAG_RTN 2014-02-18 00:00:00.000 2014-02-18 23:59:59.000\n",
      "MESSENGER_MAG_RTN 2014-02-19 00:00:00.000 2014-02-19 23:59:59.000\n",
      "MESSENGER_MAG_RTN 2014-02-20 00:00:00.000 2014-02-20 23:59:59.000\n",
      "\n",
      "\n"
     ]
    }
   ],
   "source": [
    "res = Fido.search(a.Time('2014/02/16', '2014/02/20'),\n",
    "                  a.cdaweb.Dataset('MESSENGER_MAG_RTN')) \n",
    "print(res)"
   ]
  }
 ],
 "metadata": {
  "kernelspec": {
   "display_name": "Python 3",
   "language": "python",
   "name": "python3"
  },
  "language_info": {
   "codemirror_mode": {
    "name": "ipython",
    "version": 3
   },
   "file_extension": ".py",
   "mimetype": "text/x-python",
   "name": "python",
   "nbconvert_exporter": "python",
   "pygments_lexer": "ipython3",
   "version": "3.8.5"
  }
 },
 "nbformat": 4,
 "nbformat_minor": 4
}
