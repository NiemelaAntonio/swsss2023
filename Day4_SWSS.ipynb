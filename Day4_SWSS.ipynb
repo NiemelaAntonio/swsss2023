{
 "cells": [
  {
   "cell_type": "code",
   "execution_count": 1,
   "metadata": {},
   "outputs": [],
   "source": [
    "import zipfile\n",
    "\n",
    "\n",
    "with zipfile.ZipFile('C:/Users/u0142106/Desktop/SpaceWeatherSummerSchool/swsss2023/day_04/jena_climate_2009_2016.csv.zip', 'r') as zip_ref:\n",
    "    zip_ref.extractall('C:/Users/u0142106/Desktop/SpaceWeatherSummerSchool/swsss2023/day_04/jena_climate_2009_2016/')"
   ]
  },
  {
   "cell_type": "code",
   "execution_count": 2,
   "metadata": {},
   "outputs": [
    {
     "name": "stdout",
     "output_type": "stream",
     "text": [
      "                  Date Time  p (mbar)  T (degC)  Tpot (K)  Tdew (degC)  \\\n",
      "0       01.01.2009 00:10:00    996.52     -8.02    265.40        -8.90   \n",
      "1       01.01.2009 00:20:00    996.57     -8.41    265.01        -9.28   \n",
      "2       01.01.2009 00:30:00    996.53     -8.51    264.91        -9.31   \n",
      "3       01.01.2009 00:40:00    996.51     -8.31    265.12        -9.07   \n",
      "4       01.01.2009 00:50:00    996.51     -8.27    265.15        -9.04   \n",
      "...                     ...       ...       ...       ...          ...   \n",
      "420546  31.12.2016 23:20:00   1000.07     -4.05    269.10        -8.13   \n",
      "420547  31.12.2016 23:30:00    999.93     -3.35    269.81        -8.06   \n",
      "420548  31.12.2016 23:40:00    999.82     -3.16    270.01        -8.21   \n",
      "420549  31.12.2016 23:50:00    999.81     -4.23    268.94        -8.53   \n",
      "420550  01.01.2017 00:00:00    999.82     -4.82    268.36        -8.42   \n",
      "\n",
      "        rh (%)  VPmax (mbar)  VPact (mbar)  VPdef (mbar)  sh (g/kg)  \\\n",
      "0        93.30          3.33          3.11          0.22       1.94   \n",
      "1        93.40          3.23          3.02          0.21       1.89   \n",
      "2        93.90          3.21          3.01          0.20       1.88   \n",
      "3        94.20          3.26          3.07          0.19       1.92   \n",
      "4        94.10          3.27          3.08          0.19       1.92   \n",
      "...        ...           ...           ...           ...        ...   \n",
      "420546   73.10          4.52          3.30          1.22       2.06   \n",
      "420547   69.71          4.77          3.32          1.44       2.07   \n",
      "420548   67.91          4.84          3.28          1.55       2.05   \n",
      "420549   71.80          4.46          3.20          1.26       1.99   \n",
      "420550   75.70          4.27          3.23          1.04       2.01   \n",
      "\n",
      "        H2OC (mmol/mol)  rho (g/m**3)  wv (m/s)  max. wv (m/s)  wd (deg)  \n",
      "0                  3.12       1307.75      1.03           1.75     152.3  \n",
      "1                  3.03       1309.80      0.72           1.50     136.1  \n",
      "2                  3.02       1310.24      0.19           0.63     171.6  \n",
      "3                  3.08       1309.19      0.34           0.50     198.0  \n",
      "4                  3.09       1309.00      0.32           0.63     214.3  \n",
      "...                 ...           ...       ...            ...       ...  \n",
      "420546             3.30       1292.98      0.67           1.52     240.0  \n",
      "420547             3.32       1289.44      1.14           1.92     234.3  \n",
      "420548             3.28       1288.39      1.08           2.00     215.2  \n",
      "420549             3.20       1293.56      1.49           2.16     225.8  \n",
      "420550             3.23       1296.38      1.23           1.96     184.9  \n",
      "\n",
      "[420551 rows x 15 columns]\n"
     ]
    }
   ],
   "source": [
    "import pandas as pd\n",
    "\n",
    "csv_path = 'C:/Users/u0142106/Desktop/SpaceWeatherSummerSchool/swsss2023/day_04/jena_climate_2009_2016/jena_climate_2009_2016.csv'\n",
    "df = pd.read_csv(csv_path)\n",
    "print(df)"
   ]
  },
  {
   "cell_type": "code",
   "execution_count": 3,
   "metadata": {},
   "outputs": [
    {
     "name": "stdout",
     "output_type": "stream",
     "text": [
      "                  Date Time  p (mbar)  T (degC)  Tpot (K)  Tdew (degC)  \\\n",
      "5       01.01.2009 01:00:00    996.50     -8.05    265.38        -8.78   \n",
      "11      01.01.2009 02:00:00    996.62     -8.88    264.54        -9.77   \n",
      "17      01.01.2009 03:00:00    996.84     -8.81    264.59        -9.66   \n",
      "23      01.01.2009 04:00:00    996.99     -9.05    264.34       -10.02   \n",
      "29      01.01.2009 05:00:00    997.46     -9.63    263.72       -10.65   \n",
      "...                     ...       ...       ...       ...          ...   \n",
      "420521  31.12.2016 19:10:00   1002.18     -0.98    272.01        -5.36   \n",
      "420527  31.12.2016 20:10:00   1001.40     -1.40    271.66        -6.84   \n",
      "420533  31.12.2016 21:10:00   1001.19     -2.75    270.32        -6.90   \n",
      "420539  31.12.2016 22:10:00   1000.65     -2.89    270.22        -7.15   \n",
      "420545  31.12.2016 23:10:00   1000.11     -3.93    269.23        -8.09   \n",
      "\n",
      "        rh (%)  VPmax (mbar)  VPact (mbar)  VPdef (mbar)  sh (g/kg)  \\\n",
      "5        94.40          3.33          3.14          0.19       1.96   \n",
      "11       93.20          3.12          2.90          0.21       1.81   \n",
      "17       93.50          3.13          2.93          0.20       1.83   \n",
      "23       92.60          3.07          2.85          0.23       1.78   \n",
      "29       92.20          2.94          2.71          0.23       1.69   \n",
      "...        ...           ...           ...           ...        ...   \n",
      "420521   72.00          5.69          4.09          1.59       2.54   \n",
      "420527   66.29          5.51          3.65          1.86       2.27   \n",
      "420533   72.90          4.99          3.64          1.35       2.26   \n",
      "420539   72.30          4.93          3.57          1.37       2.22   \n",
      "420545   72.60          4.56          3.31          1.25       2.06   \n",
      "\n",
      "        H2OC (mmol/mol)  rho (g/m**3)  wv (m/s)  max. wv (m/s)  wd (deg)  \n",
      "5                  3.15       1307.86      0.21           0.63     192.7  \n",
      "11                 2.91       1312.25      0.25           0.63     190.3  \n",
      "17                 2.94       1312.18      0.18           0.63     167.2  \n",
      "23                 2.85       1313.61      0.10           0.38     240.0  \n",
      "29                 2.71       1317.19      0.40           0.88     157.0  \n",
      "...                 ...           ...       ...            ...       ...  \n",
      "420521             4.08       1280.70      0.87           1.36     190.6  \n",
      "420527             3.65       1281.87      1.02           1.92     225.4  \n",
      "420533             3.63       1288.02      0.71           1.56     158.7  \n",
      "420539             3.57       1288.03      0.35           0.68     216.7  \n",
      "420545             3.31       1292.41      0.56           1.00     202.6  \n",
      "\n",
      "[70091 rows x 15 columns]\n"
     ]
    }
   ],
   "source": [
    "# Slice [start:stop:step], starting from index 5 take every 6th record. array-style slicing\n",
    "df = df[5::6]\n",
    "print(df)"
   ]
  },
  {
   "cell_type": "code",
   "execution_count": 4,
   "metadata": {},
   "outputs": [
    {
     "name": "stdout",
     "output_type": "stream",
     "text": [
      "5        2009-01-01 01:00:00\n",
      "11       2009-01-01 02:00:00\n",
      "17       2009-01-01 03:00:00\n",
      "23       2009-01-01 04:00:00\n",
      "29       2009-01-01 05:00:00\n",
      "                 ...        \n",
      "420521   2016-12-31 19:10:00\n",
      "420527   2016-12-31 20:10:00\n",
      "420533   2016-12-31 21:10:00\n",
      "420539   2016-12-31 22:10:00\n",
      "420545   2016-12-31 23:10:00\n",
      "Name: Date Time, Length: 70091, dtype: datetime64[ns]\n"
     ]
    }
   ],
   "source": [
    "# Let's remove the datetime value and make it into a separate variable\n",
    "date_time = pd.to_datetime(df.pop('Date Time'), format='%d.%m.%Y %H:%M:%S')\n",
    "print(date_time)"
   ]
  },
  {
   "cell_type": "code",
   "execution_count": 5,
   "metadata": {},
   "outputs": [
    {
     "name": "stdout",
     "output_type": "stream",
     "text": [
      "        p (mbar)  T (degC)  Tpot (K)  Tdew (degC)  rh (%)  VPmax (mbar)  \\\n",
      "5         996.50     -8.05    265.38        -8.78   94.40          3.33   \n",
      "11        996.62     -8.88    264.54        -9.77   93.20          3.12   \n",
      "17        996.84     -8.81    264.59        -9.66   93.50          3.13   \n",
      "23        996.99     -9.05    264.34       -10.02   92.60          3.07   \n",
      "29        997.46     -9.63    263.72       -10.65   92.20          2.94   \n",
      "...          ...       ...       ...          ...     ...           ...   \n",
      "420521   1002.18     -0.98    272.01        -5.36   72.00          5.69   \n",
      "420527   1001.40     -1.40    271.66        -6.84   66.29          5.51   \n",
      "420533   1001.19     -2.75    270.32        -6.90   72.90          4.99   \n",
      "420539   1000.65     -2.89    270.22        -7.15   72.30          4.93   \n",
      "420545   1000.11     -3.93    269.23        -8.09   72.60          4.56   \n",
      "\n",
      "        VPact (mbar)  VPdef (mbar)  sh (g/kg)  H2OC (mmol/mol)  rho (g/m**3)  \\\n",
      "5               3.14          0.19       1.96             3.15       1307.86   \n",
      "11              2.90          0.21       1.81             2.91       1312.25   \n",
      "17              2.93          0.20       1.83             2.94       1312.18   \n",
      "23              2.85          0.23       1.78             2.85       1313.61   \n",
      "29              2.71          0.23       1.69             2.71       1317.19   \n",
      "...              ...           ...        ...              ...           ...   \n",
      "420521          4.09          1.59       2.54             4.08       1280.70   \n",
      "420527          3.65          1.86       2.27             3.65       1281.87   \n",
      "420533          3.64          1.35       2.26             3.63       1288.02   \n",
      "420539          3.57          1.37       2.22             3.57       1288.03   \n",
      "420545          3.31          1.25       2.06             3.31       1292.41   \n",
      "\n",
      "        wv (m/s)  max. wv (m/s)  wd (deg)  \n",
      "5           0.21           0.63     192.7  \n",
      "11          0.25           0.63     190.3  \n",
      "17          0.18           0.63     167.2  \n",
      "23          0.10           0.38     240.0  \n",
      "29          0.40           0.88     157.0  \n",
      "...          ...            ...       ...  \n",
      "420521      0.87           1.36     190.6  \n",
      "420527      1.02           1.92     225.4  \n",
      "420533      0.71           1.56     158.7  \n",
      "420539      0.35           0.68     216.7  \n",
      "420545      0.56           1.00     202.6  \n",
      "\n",
      "[70091 rows x 14 columns]\n"
     ]
    }
   ],
   "source": [
    "print(df)"
   ]
  },
  {
   "cell_type": "code",
   "execution_count": 6,
   "metadata": {},
   "outputs": [
    {
     "data": {
      "text/html": [
       "<div>\n",
       "<style scoped>\n",
       "    .dataframe tbody tr th:only-of-type {\n",
       "        vertical-align: middle;\n",
       "    }\n",
       "\n",
       "    .dataframe tbody tr th {\n",
       "        vertical-align: top;\n",
       "    }\n",
       "\n",
       "    .dataframe thead th {\n",
       "        text-align: right;\n",
       "    }\n",
       "</style>\n",
       "<table border=\"1\" class=\"dataframe\">\n",
       "  <thead>\n",
       "    <tr style=\"text-align: right;\">\n",
       "      <th></th>\n",
       "      <th>p (mbar)</th>\n",
       "      <th>T (degC)</th>\n",
       "      <th>Tpot (K)</th>\n",
       "      <th>Tdew (degC)</th>\n",
       "      <th>rh (%)</th>\n",
       "      <th>VPmax (mbar)</th>\n",
       "      <th>VPact (mbar)</th>\n",
       "      <th>VPdef (mbar)</th>\n",
       "      <th>sh (g/kg)</th>\n",
       "      <th>H2OC (mmol/mol)</th>\n",
       "      <th>rho (g/m**3)</th>\n",
       "      <th>wv (m/s)</th>\n",
       "      <th>max. wv (m/s)</th>\n",
       "      <th>wd (deg)</th>\n",
       "    </tr>\n",
       "  </thead>\n",
       "  <tbody>\n",
       "    <tr>\n",
       "      <th>420521</th>\n",
       "      <td>1002.18</td>\n",
       "      <td>-0.98</td>\n",
       "      <td>272.01</td>\n",
       "      <td>-5.36</td>\n",
       "      <td>72.00</td>\n",
       "      <td>5.69</td>\n",
       "      <td>4.09</td>\n",
       "      <td>1.59</td>\n",
       "      <td>2.54</td>\n",
       "      <td>4.08</td>\n",
       "      <td>1280.70</td>\n",
       "      <td>0.87</td>\n",
       "      <td>1.36</td>\n",
       "      <td>190.6</td>\n",
       "    </tr>\n",
       "    <tr>\n",
       "      <th>420527</th>\n",
       "      <td>1001.40</td>\n",
       "      <td>-1.40</td>\n",
       "      <td>271.66</td>\n",
       "      <td>-6.84</td>\n",
       "      <td>66.29</td>\n",
       "      <td>5.51</td>\n",
       "      <td>3.65</td>\n",
       "      <td>1.86</td>\n",
       "      <td>2.27</td>\n",
       "      <td>3.65</td>\n",
       "      <td>1281.87</td>\n",
       "      <td>1.02</td>\n",
       "      <td>1.92</td>\n",
       "      <td>225.4</td>\n",
       "    </tr>\n",
       "    <tr>\n",
       "      <th>420533</th>\n",
       "      <td>1001.19</td>\n",
       "      <td>-2.75</td>\n",
       "      <td>270.32</td>\n",
       "      <td>-6.90</td>\n",
       "      <td>72.90</td>\n",
       "      <td>4.99</td>\n",
       "      <td>3.64</td>\n",
       "      <td>1.35</td>\n",
       "      <td>2.26</td>\n",
       "      <td>3.63</td>\n",
       "      <td>1288.02</td>\n",
       "      <td>0.71</td>\n",
       "      <td>1.56</td>\n",
       "      <td>158.7</td>\n",
       "    </tr>\n",
       "    <tr>\n",
       "      <th>420539</th>\n",
       "      <td>1000.65</td>\n",
       "      <td>-2.89</td>\n",
       "      <td>270.22</td>\n",
       "      <td>-7.15</td>\n",
       "      <td>72.30</td>\n",
       "      <td>4.93</td>\n",
       "      <td>3.57</td>\n",
       "      <td>1.37</td>\n",
       "      <td>2.22</td>\n",
       "      <td>3.57</td>\n",
       "      <td>1288.03</td>\n",
       "      <td>0.35</td>\n",
       "      <td>0.68</td>\n",
       "      <td>216.7</td>\n",
       "    </tr>\n",
       "    <tr>\n",
       "      <th>420545</th>\n",
       "      <td>1000.11</td>\n",
       "      <td>-3.93</td>\n",
       "      <td>269.23</td>\n",
       "      <td>-8.09</td>\n",
       "      <td>72.60</td>\n",
       "      <td>4.56</td>\n",
       "      <td>3.31</td>\n",
       "      <td>1.25</td>\n",
       "      <td>2.06</td>\n",
       "      <td>3.31</td>\n",
       "      <td>1292.41</td>\n",
       "      <td>0.56</td>\n",
       "      <td>1.00</td>\n",
       "      <td>202.6</td>\n",
       "    </tr>\n",
       "  </tbody>\n",
       "</table>\n",
       "</div>"
      ],
      "text/plain": [
       "        p (mbar)  T (degC)  Tpot (K)  Tdew (degC)  rh (%)  VPmax (mbar)  \\\n",
       "420521   1002.18     -0.98    272.01        -5.36   72.00          5.69   \n",
       "420527   1001.40     -1.40    271.66        -6.84   66.29          5.51   \n",
       "420533   1001.19     -2.75    270.32        -6.90   72.90          4.99   \n",
       "420539   1000.65     -2.89    270.22        -7.15   72.30          4.93   \n",
       "420545   1000.11     -3.93    269.23        -8.09   72.60          4.56   \n",
       "\n",
       "        VPact (mbar)  VPdef (mbar)  sh (g/kg)  H2OC (mmol/mol)  rho (g/m**3)  \\\n",
       "420521          4.09          1.59       2.54             4.08       1280.70   \n",
       "420527          3.65          1.86       2.27             3.65       1281.87   \n",
       "420533          3.64          1.35       2.26             3.63       1288.02   \n",
       "420539          3.57          1.37       2.22             3.57       1288.03   \n",
       "420545          3.31          1.25       2.06             3.31       1292.41   \n",
       "\n",
       "        wv (m/s)  max. wv (m/s)  wd (deg)  \n",
       "420521      0.87           1.36     190.6  \n",
       "420527      1.02           1.92     225.4  \n",
       "420533      0.71           1.56     158.7  \n",
       "420539      0.35           0.68     216.7  \n",
       "420545      0.56           1.00     202.6  "
      ]
     },
     "execution_count": 6,
     "metadata": {},
     "output_type": "execute_result"
    }
   ],
   "source": [
    "df.tail(5)"
   ]
  },
  {
   "cell_type": "markdown",
   "metadata": {},
   "source": [
    "# This upcoming cell is for plotting some of the vars in the dataframe"
   ]
  },
  {
   "cell_type": "code",
   "execution_count": 7,
   "metadata": {},
   "outputs": [
    {
     "name": "stdout",
     "output_type": "stream",
     "text": [
      "                     T (degC)  p (mbar)  rho (g/m**3)\n",
      "Date Time                                            \n",
      "2009-01-01 01:00:00     -8.05    996.50       1307.86\n",
      "2009-01-01 02:00:00     -8.88    996.62       1312.25\n",
      "2009-01-01 03:00:00     -8.81    996.84       1312.18\n",
      "2009-01-01 04:00:00     -9.05    996.99       1313.61\n",
      "2009-01-01 05:00:00     -9.63    997.46       1317.19\n",
      "...                       ...       ...           ...\n",
      "2016-12-31 19:10:00     -0.98   1002.18       1280.70\n",
      "2016-12-31 20:10:00     -1.40   1001.40       1281.87\n",
      "2016-12-31 21:10:00     -2.75   1001.19       1288.02\n",
      "2016-12-31 22:10:00     -2.89   1000.65       1288.03\n",
      "2016-12-31 23:10:00     -3.93   1000.11       1292.41\n",
      "\n",
      "[70091 rows x 3 columns]\n"
     ]
    },
    {
     "data": {
      "image/png": "[encoded data removed]",
      "text/plain": [
       "<Figure size 432x288 with 3 Axes>"
      ]
     },
     "metadata": {
      "needs_background": "light"
     },
     "output_type": "display_data"
    }
   ],
   "source": [
    "plot_cols = ['T (degC)', 'p (mbar)', 'rho (g/m**3)']\n",
    "plot_features = df[plot_cols]\n",
    "plot_features.index = date_time\n",
    "print(plot_features)\n",
    "_ = plot_features.plot(subplots=True)  # Naming it _ does not store any of the information for the plot (like the structure or stuff like that)\n"
   ]
  },
  {
   "cell_type": "code",
   "execution_count": 8,
   "metadata": {},
   "outputs": [
    {
     "data": {
      "image/png": "[encoded data removed]",
      "text/plain": [
       "<Figure size 432x288 with 3 Axes>"
      ]
     },
     "metadata": {
      "needs_background": "light"
     },
     "output_type": "display_data"
    }
   ],
   "source": [
    "plot_features = df[plot_cols][:480]\n",
    "plot_features.index = date_time[:480]\n",
    "_ = plot_features.plot(subplots=True)"
   ]
  },
  {
   "cell_type": "code",
   "execution_count": 9,
   "metadata": {},
   "outputs": [
    {
     "data": {
      "text/html": [
       "<div>\n",
       "<style scoped>\n",
       "    .dataframe tbody tr th:only-of-type {\n",
       "        vertical-align: middle;\n",
       "    }\n",
       "\n",
       "    .dataframe tbody tr th {\n",
       "        vertical-align: top;\n",
       "    }\n",
       "\n",
       "    .dataframe thead th {\n",
       "        text-align: right;\n",
       "    }\n",
       "</style>\n",
       "<table border=\"1\" class=\"dataframe\">\n",
       "  <thead>\n",
       "    <tr style=\"text-align: right;\">\n",
       "      <th></th>\n",
       "      <th>count</th>\n",
       "      <th>mean</th>\n",
       "      <th>std</th>\n",
       "      <th>min</th>\n",
       "      <th>25%</th>\n",
       "      <th>50%</th>\n",
       "      <th>75%</th>\n",
       "      <th>max</th>\n",
       "    </tr>\n",
       "  </thead>\n",
       "  <tbody>\n",
       "    <tr>\n",
       "      <th>p (mbar)</th>\n",
       "      <td>70091.0</td>\n",
       "      <td>989.212842</td>\n",
       "      <td>8.358886</td>\n",
       "      <td>913.60</td>\n",
       "      <td>984.20</td>\n",
       "      <td>989.57</td>\n",
       "      <td>994.720</td>\n",
       "      <td>1015.29</td>\n",
       "    </tr>\n",
       "    <tr>\n",
       "      <th>T (degC)</th>\n",
       "      <td>70091.0</td>\n",
       "      <td>9.450482</td>\n",
       "      <td>8.423384</td>\n",
       "      <td>-22.76</td>\n",
       "      <td>3.35</td>\n",
       "      <td>9.41</td>\n",
       "      <td>15.480</td>\n",
       "      <td>37.28</td>\n",
       "    </tr>\n",
       "    <tr>\n",
       "      <th>Tpot (K)</th>\n",
       "      <td>70091.0</td>\n",
       "      <td>283.493086</td>\n",
       "      <td>8.504424</td>\n",
       "      <td>250.85</td>\n",
       "      <td>277.44</td>\n",
       "      <td>283.46</td>\n",
       "      <td>289.530</td>\n",
       "      <td>311.21</td>\n",
       "    </tr>\n",
       "    <tr>\n",
       "      <th>Tdew (degC)</th>\n",
       "      <td>70091.0</td>\n",
       "      <td>4.956471</td>\n",
       "      <td>6.730081</td>\n",
       "      <td>-24.80</td>\n",
       "      <td>0.24</td>\n",
       "      <td>5.21</td>\n",
       "      <td>10.080</td>\n",
       "      <td>23.06</td>\n",
       "    </tr>\n",
       "    <tr>\n",
       "      <th>rh (%)</th>\n",
       "      <td>70091.0</td>\n",
       "      <td>76.009788</td>\n",
       "      <td>16.474920</td>\n",
       "      <td>13.88</td>\n",
       "      <td>65.21</td>\n",
       "      <td>79.30</td>\n",
       "      <td>89.400</td>\n",
       "      <td>100.00</td>\n",
       "    </tr>\n",
       "    <tr>\n",
       "      <th>VPmax (mbar)</th>\n",
       "      <td>70091.0</td>\n",
       "      <td>13.576576</td>\n",
       "      <td>7.739883</td>\n",
       "      <td>0.97</td>\n",
       "      <td>7.77</td>\n",
       "      <td>11.82</td>\n",
       "      <td>17.610</td>\n",
       "      <td>63.77</td>\n",
       "    </tr>\n",
       "    <tr>\n",
       "      <th>VPact (mbar)</th>\n",
       "      <td>70091.0</td>\n",
       "      <td>9.533968</td>\n",
       "      <td>4.183658</td>\n",
       "      <td>0.81</td>\n",
       "      <td>6.22</td>\n",
       "      <td>8.86</td>\n",
       "      <td>12.360</td>\n",
       "      <td>28.25</td>\n",
       "    </tr>\n",
       "    <tr>\n",
       "      <th>VPdef (mbar)</th>\n",
       "      <td>70091.0</td>\n",
       "      <td>4.042536</td>\n",
       "      <td>4.898549</td>\n",
       "      <td>0.00</td>\n",
       "      <td>0.87</td>\n",
       "      <td>2.19</td>\n",
       "      <td>5.300</td>\n",
       "      <td>46.01</td>\n",
       "    </tr>\n",
       "    <tr>\n",
       "      <th>sh (g/kg)</th>\n",
       "      <td>70091.0</td>\n",
       "      <td>6.022560</td>\n",
       "      <td>2.655812</td>\n",
       "      <td>0.51</td>\n",
       "      <td>3.92</td>\n",
       "      <td>5.59</td>\n",
       "      <td>7.800</td>\n",
       "      <td>18.07</td>\n",
       "    </tr>\n",
       "    <tr>\n",
       "      <th>H2OC (mmol/mol)</th>\n",
       "      <td>70091.0</td>\n",
       "      <td>9.640437</td>\n",
       "      <td>4.234862</td>\n",
       "      <td>0.81</td>\n",
       "      <td>6.29</td>\n",
       "      <td>8.96</td>\n",
       "      <td>12.490</td>\n",
       "      <td>28.74</td>\n",
       "    </tr>\n",
       "    <tr>\n",
       "      <th>rho (g/m**3)</th>\n",
       "      <td>70091.0</td>\n",
       "      <td>1216.061232</td>\n",
       "      <td>39.974263</td>\n",
       "      <td>1059.45</td>\n",
       "      <td>1187.47</td>\n",
       "      <td>1213.80</td>\n",
       "      <td>1242.765</td>\n",
       "      <td>1393.54</td>\n",
       "    </tr>\n",
       "    <tr>\n",
       "      <th>wv (m/s)</th>\n",
       "      <td>70091.0</td>\n",
       "      <td>1.702567</td>\n",
       "      <td>65.447512</td>\n",
       "      <td>-9999.00</td>\n",
       "      <td>0.99</td>\n",
       "      <td>1.76</td>\n",
       "      <td>2.860</td>\n",
       "      <td>14.01</td>\n",
       "    </tr>\n",
       "    <tr>\n",
       "      <th>max. wv (m/s)</th>\n",
       "      <td>70091.0</td>\n",
       "      <td>2.963041</td>\n",
       "      <td>75.597657</td>\n",
       "      <td>-9999.00</td>\n",
       "      <td>1.76</td>\n",
       "      <td>2.98</td>\n",
       "      <td>4.740</td>\n",
       "      <td>23.50</td>\n",
       "    </tr>\n",
       "    <tr>\n",
       "      <th>wd (deg)</th>\n",
       "      <td>70091.0</td>\n",
       "      <td>174.789095</td>\n",
       "      <td>86.619431</td>\n",
       "      <td>0.00</td>\n",
       "      <td>125.30</td>\n",
       "      <td>198.10</td>\n",
       "      <td>234.000</td>\n",
       "      <td>360.00</td>\n",
       "    </tr>\n",
       "  </tbody>\n",
       "</table>\n",
       "</div>"
      ],
      "text/plain": [
       "                   count         mean        std      min      25%      50%  \\\n",
       "p (mbar)         70091.0   989.212842   8.358886   913.60   984.20   989.57   \n",
       "T (degC)         70091.0     9.450482   8.423384   -22.76     3.35     9.41   \n",
       "Tpot (K)         70091.0   283.493086   8.504424   250.85   277.44   283.46   \n",
       "Tdew (degC)      70091.0     4.956471   6.730081   -24.80     0.24     5.21   \n",
       "rh (%)           70091.0    76.009788  16.474920    13.88    65.21    79.30   \n",
       "VPmax (mbar)     70091.0    13.576576   7.739883     0.97     7.77    11.82   \n",
       "VPact (mbar)     70091.0     9.533968   4.183658     0.81     6.22     8.86   \n",
       "VPdef (mbar)     70091.0     4.042536   4.898549     0.00     0.87     2.19   \n",
       "sh (g/kg)        70091.0     6.022560   2.655812     0.51     3.92     5.59   \n",
       "H2OC (mmol/mol)  70091.0     9.640437   4.234862     0.81     6.29     8.96   \n",
       "rho (g/m**3)     70091.0  1216.061232  39.974263  1059.45  1187.47  1213.80   \n",
       "wv (m/s)         70091.0     1.702567  65.447512 -9999.00     0.99     1.76   \n",
       "max. wv (m/s)    70091.0     2.963041  75.597657 -9999.00     1.76     2.98   \n",
       "wd (deg)         70091.0   174.789095  86.619431     0.00   125.30   198.10   \n",
       "\n",
       "                      75%      max  \n",
       "p (mbar)          994.720  1015.29  \n",
       "T (degC)           15.480    37.28  \n",
       "Tpot (K)          289.530   311.21  \n",
       "Tdew (degC)        10.080    23.06  \n",
       "rh (%)             89.400   100.00  \n",
       "VPmax (mbar)       17.610    63.77  \n",
       "VPact (mbar)       12.360    28.25  \n",
       "VPdef (mbar)        5.300    46.01  \n",
       "sh (g/kg)           7.800    18.07  \n",
       "H2OC (mmol/mol)    12.490    28.74  \n",
       "rho (g/m**3)     1242.765  1393.54  \n",
       "wv (m/s)            2.860    14.01  \n",
       "max. wv (m/s)       4.740    23.50  \n",
       "wd (deg)          234.000   360.00  "
      ]
     },
     "execution_count": 9,
     "metadata": {},
     "output_type": "execute_result"
    }
   ],
   "source": [
    "df.describe().transpose()"
   ]
  },
  {
   "cell_type": "markdown",
   "metadata": {},
   "source": [
    "From our table above, we noticed that the wind speed (wv) and max. wv has unrealistic values (-9999). These outliers need to be removed from our data by substituting with an interpolated value."
   ]
  },
  {
   "cell_type": "code",
   "execution_count": 10,
   "metadata": {},
   "outputs": [
    {
     "data": {
      "text/plain": [
       "-9999.0"
      ]
     },
     "execution_count": 10,
     "metadata": {},
     "output_type": "execute_result"
    }
   ],
   "source": [
    "# We will first identify the index of the bad data and then replace them with zero\n",
    "wv = df['wv (m/s)']\n",
    "bad_wv = wv == -9999.0\n",
    "#wv[bad_wv] = 0.0\n",
    "#Lets try to make the 0.0 replaced with interpolation with the 1D interpolator function\n",
    "\n",
    "max_wv = df['max. wv (m/s)']\n",
    "bad_max_wv = max_wv == -9999.0\n",
    "max_wv[bad_max_wv] = 0.0\n",
    "\n",
    "# The above inplace edits are then reflected in the DataFrame.\n",
    "df['wv (m/s)'].min()"
   ]
  },
  {
   "cell_type": "code",
   "execution_count": 11,
   "metadata": {},
   "outputs": [
    {
     "name": "stdout",
     "output_type": "stream",
     "text": [
      "Int64Index([343583, 343589, 343595], dtype='int64')\n",
      "343583   -9999.0\n",
      "343589   -9999.0\n",
      "343595   -9999.0\n",
      "Name: wv (m/s), dtype: float64\n"
     ]
    },
    {
     "ename": "NameError",
     "evalue": "name 'y' is not defined",
     "output_type": "error",
     "traceback": [
      "\u001b[1;31m---------------------------------------------------------------------------\u001b[0m",
      "\u001b[1;31mNameError\u001b[0m                                 Traceback (most recent call last)",
      "\u001b[1;32m<ipython-input-11-0c0feafe542f>\u001b[0m in \u001b[0;36m<module>\u001b[1;34m\u001b[0m\n\u001b[0;32m     10\u001b[0m \u001b[0mprint\u001b[0m\u001b[1;33m(\u001b[0m\u001b[0mwv\u001b[0m\u001b[1;33m[\u001b[0m\u001b[0mIndex_for_bad_wv\u001b[0m\u001b[1;33m]\u001b[0m\u001b[1;33m)\u001b[0m\u001b[1;33m\u001b[0m\u001b[1;33m\u001b[0m\u001b[0m\n\u001b[0;32m     11\u001b[0m \u001b[1;32mfor\u001b[0m \u001b[0mi\u001b[0m \u001b[1;32min\u001b[0m \u001b[0mIndex_for_bad_wv\u001b[0m\u001b[1;33m:\u001b[0m\u001b[1;33m\u001b[0m\u001b[1;33m\u001b[0m\u001b[0m\n\u001b[1;32m---> 12\u001b[1;33m     \u001b[0minterp_func_1D\u001b[0m \u001b[1;33m=\u001b[0m \u001b[0minterpolate\u001b[0m\u001b[1;33m.\u001b[0m\u001b[0minterp1d\u001b[0m\u001b[1;33m(\u001b[0m\u001b[0mwv\u001b[0m\u001b[1;33m[\u001b[0m\u001b[0mIndex_for_bad_wv\u001b[0m\u001b[1;33m]\u001b[0m\u001b[1;33m,\u001b[0m \u001b[0my\u001b[0m\u001b[1;33m)\u001b[0m\u001b[1;33m\u001b[0m\u001b[1;33m\u001b[0m\u001b[0m\n\u001b[0m\u001b[0;32m     13\u001b[0m \u001b[1;31m#for item in wv:\u001b[0m\u001b[1;33m\u001b[0m\u001b[1;33m\u001b[0m\u001b[1;33m\u001b[0m\u001b[0m\n\u001b[0;32m     14\u001b[0m     \u001b[1;31m#print(item)\u001b[0m\u001b[1;33m\u001b[0m\u001b[1;33m\u001b[0m\u001b[1;33m\u001b[0m\u001b[0m\n",
      "\u001b[1;31mNameError\u001b[0m: name 'y' is not defined"
     ]
    }
   ],
   "source": [
    "#Lets try to make the 0.0 replaced with interpolation with the 1D interpolator function\n",
    "import numpy as np\n",
    "from scipy import interpolate\n",
    "\n",
    "\n",
    "wv = df['wv (m/s)']\n",
    "bad_wv = wv == -9999.0\n",
    "Index_for_bad_wv = wv.loc[bad_wv==True].index\n",
    "print((Index_for_bad_wv))\n",
    "print(wv[Index_for_bad_wv])\n",
    "for i in Index_for_bad_wv:\n",
    "    interp_func_1D = interpolate.interp1d(wv[Index_for_bad_wv], y)\n",
    "#for item in wv:\n",
    "    #print(item)\n",
    "#    if item ==-9999.0:\n",
    "       # print(item)\n",
    "\n",
    "\n",
    "'''\n",
    "print('this is wv = '+str(wv))\n",
    "y = np.exp(-x/3.0)\n",
    "print('this is y = '+str(y))\n",
    "\n",
    "# Generate 1D interpolant function\n",
    "interp_func_1D = interpolate.interp1d(x, y)\n",
    "\n",
    "# Let's select some new points\n",
    "xnew = np.arange(0, 9, 0.1)\n",
    "print('this is xnew = '+str(len(xnew)))\n",
    "# use interpolation function returned by `interp1d`\n",
    "ynew = interp_func_1D(xnew) \n",
    "print('this is ynew = '+str(len(ynew)))\n",
    "plt.plot(x,y)\n",
    "plt.plot(xnew,ynew)\n",
    "'''\n"
   ]
  },
  {
   "cell_type": "code",
   "execution_count": 12,
   "metadata": {},
   "outputs": [
    {
     "data": {
      "image/png": "[encoded data removed]",
      "text/plain": [
       "<Figure size 576x360 with 1 Axes>"
      ]
     },
     "metadata": {
      "needs_background": "light"
     },
     "output_type": "display_data"
    }
   ],
   "source": [
    "import matplotlib.pyplot as plt\n",
    "\n",
    "fig, axs = plt.subplots(1, figsize=(8, 5))\n",
    "plt.hist(df['wd (deg)'])\n",
    "plt.xlabel('Wind Direction [deg]', fontsize=16)\n",
    "plt.ylabel('Number of Occurence', fontsize=16)\n",
    "plt.tick_params(axis = 'both', which = 'major', labelsize = 14)\n",
    "plt.grid()"
   ]
  },
  {
   "cell_type": "markdown",
   "metadata": {},
   "source": [
    "# From here downwards there are the ex session from the afternoon"
   ]
  },
  {
   "cell_type": "code",
   "execution_count": 18,
   "metadata": {},
   "outputs": [
    {
     "name": "stdout",
     "output_type": "stream",
     "text": [
      "<class 'netCDF4._netCDF4.Dataset'>\n",
      "root group (NETCDF3_64BIT_OFFSET data model, file format NETCDF3):\n",
      "    init_date: 20230724_060000\n",
      "    start_date: 20230724_030000\n",
      "    end_date: 20230726_060000\n",
      "    fcst_date: 20230724_060500\n",
      "    run_type: wfs\n",
      "    model: ipe\n",
      "    cadence: 05\n",
      "    dimensions(sizes): x01(90), x02(91), x03(109)\n",
      "    variables(dimensions): float32 lon(x01), float32 lat(x02), float32 alt(x03), float32 tec(x02,x01), float32 NmF2(x02,x01), float32 HmF2(x02,x01)\n",
      "    groups: \n",
      "<class 'netCDF4._netCDF4.Variable'>\n",
      "float32 tec(x02, x01)\n",
      "    long_name: tec\n",
      "    units: TECu\n",
      "unlimited dimensions: \n",
      "current shape = (91, 90)\n",
      "filling on, default _FillValue of 9.969209968386869e+36 used\n",
      "TECu\n",
      "{'lon': <class 'netCDF4._netCDF4.Variable'>\n",
      "float32 lon(x01)\n",
      "    long_name: longitude\n",
      "    units: degrees_east\n",
      "unlimited dimensions: \n",
      "current shape = (90,)\n",
      "filling on, default _FillValue of 9.969209968386869e+36 used, 'lat': <class 'netCDF4._netCDF4.Variable'>\n",
      "float32 lat(x02)\n",
      "    long_name: latitude\n",
      "    units: degrees_north\n",
      "unlimited dimensions: \n",
      "current shape = (91,)\n",
      "filling on, default _FillValue of 9.969209968386869e+36 used, 'alt': <class 'netCDF4._netCDF4.Variable'>\n",
      "float32 alt(x03)\n",
      "    long_name: altitude\n",
      "    units: km\n",
      "unlimited dimensions: \n",
      "current shape = (109,)\n",
      "filling on, default _FillValue of 9.969209968386869e+36 used, 'tec': <class 'netCDF4._netCDF4.Variable'>\n",
      "float32 tec(x02, x01)\n",
      "    long_name: tec\n",
      "    units: TECu\n",
      "unlimited dimensions: \n",
      "current shape = (91, 90)\n",
      "filling on, default _FillValue of 9.969209968386869e+36 used, 'NmF2': <class 'netCDF4._netCDF4.Variable'>\n",
      "float32 NmF2(x02, x01)\n",
      "    long_name: NmF2\n",
      "    units: m-3\n",
      "unlimited dimensions: \n",
      "current shape = (91, 90)\n",
      "filling on, default _FillValue of 9.969209968386869e+36 used, 'HmF2': <class 'netCDF4._netCDF4.Variable'>\n",
      "float32 HmF2(x02, x01)\n",
      "    long_name: HmF2\n",
      "    units: km\n",
      "unlimited dimensions: \n",
      "current shape = (91, 90)\n",
      "filling on, default _FillValue of 9.969209968386869e+36 used}\n"
     ]
    },
    {
     "name": "stderr",
     "output_type": "stream",
     "text": [
      "<ipython-input-18-373644da4e70>:3: DeprecationWarning: tostring() is deprecated. Use tobytes() instead.\n",
      "  print(dataset)\n",
      "<ipython-input-18-373644da4e70>:4: DeprecationWarning: tostring() is deprecated. Use tobytes() instead.\n",
      "  print(dataset['tec'])\n",
      "<ipython-input-18-373644da4e70>:5: DeprecationWarning: tostring() is deprecated. Use tobytes() instead.\n",
      "  print(dataset['tec'].units)\n",
      "<ipython-input-18-373644da4e70>:6: DeprecationWarning: tostring() is deprecated. Use tobytes() instead.\n",
      "  print(dataset.variables)\n"
     ]
    }
   ],
   "source": [
    "import netCDF4 as nc\n",
    "dataset  = nc.Dataset('C:/Users/u0142106/Desktop/SpaceWeatherSummerSchool/swsss2023/Data_Day2/wfs.t06z.ipe05.20230724_060500.nc')\n",
    "print(dataset)\n",
    "print(dataset['tec'])\n",
    "print(dataset['tec'].units)\n",
    "print(dataset.variables)\n"
   ]
  },
  {
   "cell_type": "code",
   "execution_count": 86,
   "metadata": {},
   "outputs": [
    {
     "name": "stdout",
     "output_type": "stream",
     "text": [
      "(91, 90)\n",
      "lon\n",
      "lat\n",
      "alt\n",
      "tec\n",
      "NmF2\n",
      "HmF2\n"
     ]
    },
    {
     "name": "stderr",
     "output_type": "stream",
     "text": [
      "<ipython-input-86-ce21fd8a0e73>:5: DeprecationWarning: `np.bool` is a deprecated alias for the builtin `bool`. To silence this warning, use `bool` by itself. Doing this will not modify any behavior and is safe. If you specifically wanted the numpy scalar type, use `np.bool_` here.\n",
      "Deprecated in NumPy 1.20; for more details and guidance: https://numpy.org/devdocs/release/1.20.0-notes.html#deprecations\n",
      "  dataset['lat'][:]\n"
     ]
    },
    {
     "data": {
      "text/plain": [
       "'\\nfig, (ax) = plt.subplots(1, figsize=(15, 5), sharex=True)\\n\\ncs = ax.contourf(dataset[\\'lon\\'][:],dataset[\\'lat\\'][:],dataset[\\'tec\\'][:,:])\\nax.set_title(\\'TEC content\\', fontsize=20)\\nax.set_ylabel(\"Latitude\", fontsize=20)\\nax.tick_params(axis = \\'both\\', which = \\'major\\', labelsize = 20)\\n# Make a colorbar for the ContourSet returned by the contourf call.\\ncbar = fig.colorbar(cs,ax=ax)\\ncbar.ax.set_ylabel(\\'Total Electron Content [TECu]\\', fontsize=20)\\ncbar.ax.tick_params(labelsize=15) \\nax.set_xlabel(\"Longitude\", fontsize=20)\\n'"
      ]
     },
     "execution_count": 86,
     "metadata": {},
     "output_type": "execute_result"
    }
   ],
   "source": [
    "#plt.contourf(dataset['tec'])\n",
    "print(np.shape(dataset['tec']))\n",
    "#print(dataset['tec'][0])\n",
    "#print(np.shape(dataset['lat']))\n",
    "dataset['lat'][:]\n",
    "\n",
    "for vars in dataset.variables:\n",
    "    print(vars)\n",
    "'''\n",
    "fig, (ax) = plt.subplots(1, figsize=(15, 5), sharex=True)\n",
    "\n",
    "cs = ax.contourf(dataset['lon'][:],dataset['lat'][:],dataset['tec'][:,:])\n",
    "ax.set_title('TEC content', fontsize=20)\n",
    "ax.set_ylabel(\"Latitude\", fontsize=20)\n",
    "ax.tick_params(axis = 'both', which = 'major', labelsize = 20)\n",
    "# Make a colorbar for the ContourSet returned by the contourf call.\n",
    "cbar = fig.colorbar(cs,ax=ax)\n",
    "cbar.ax.set_ylabel('Total Electron Content [TECu]', fontsize=20)\n",
    "cbar.ax.tick_params(labelsize=15) \n",
    "ax.set_xlabel(\"Longitude\", fontsize=20)\n",
    "'''"
   ]
  },
  {
   "cell_type": "code",
   "execution_count": 148,
   "metadata": {},
   "outputs": [],
   "source": [
    "#We need to plot the Total electron content through a function\n",
    "def Plot_tec(Path_to_Dataset):\n",
    "    \"\"\"\n",
    "    This function takes a path to a netCDF file and plots it \n",
    "    __autor__ = 'Antonio Niemela'\n",
    "    __email__ = 'asdf@outlook.com'\n",
    "    \n",
    "    \n",
    "    Path_to_Dataset   --> This is the whole path to the netCDF file\n",
    "    \n",
    "    \"\"\"\n",
    "    dataset  = nc.Dataset(Path_to_Dataset)                                    #--> reads the file\n",
    "    #________________________________________________________________________________________\n",
    "    fig, (ax) = plt.subplots(1, figsize=(15, 5),)                              #--> starts the plot \n",
    "    cs = ax.contourf(dataset['lon'][:],dataset['lat'][:],dataset['tec'][:,:]) #-->Here is the plotting part\n",
    "    ax.set_title('TEC content', fontsize=20)                                  #-->Sets the sup. title\n",
    "    ax.set_ylabel(\"Latitude\", fontsize=20)                                    #-->Sets the y labels\n",
    "    ax.set_xlabel(\"Longitude\", fontsize=20)                                   #-->Sets x labels\n",
    "    ax.tick_params(axis = 'both', which = 'major', labelsize = 20)            #-->Sets how long the lines for the labels are\n",
    "    cbar = fig.colorbar(cs,ax=ax)                                             #-->gives easier manipulation of the colorbar\n",
    "    cbar.ax.set_ylabel('Total Electron Content [TECu]', fontsize=20)          #-->Sets the label of the colorbar\n",
    "    cbar.ax.tick_params(labelsize=15)                                         #-->Sets the labelsize for the colorbar\n",
    "    plt.tight_layout()\n",
    "    return fig"
   ]
  },
  {
   "cell_type": "code",
   "execution_count": 134,
   "metadata": {},
   "outputs": [
    {
     "name": "stderr",
     "output_type": "stream",
     "text": [
      "<ipython-input-129-05a68186c357>:15: DeprecationWarning: `np.bool` is a deprecated alias for the builtin `bool`. To silence this warning, use `bool` by itself. Doing this will not modify any behavior and is safe. If you specifically wanted the numpy scalar type, use `np.bool_` here.\n",
      "Deprecated in NumPy 1.20; for more details and guidance: https://numpy.org/devdocs/release/1.20.0-notes.html#deprecations\n",
      "  cs = ax.contourf(dataset['lon'][:],dataset['lat'][:],dataset['tec'][:,:]) #-->Here is the plotting part\n"
     ]
    },
    {
     "name": "stdout",
     "output_type": "stream",
     "text": [
      "Figure(1080x360)\n"
     ]
    },
    {
     "data": {
      "image/png": "[encoded data removed]",
      "text/plain": [
       "<Figure size 1080x360 with 2 Axes>"
      ]
     },
     "metadata": {
      "needs_background": "light"
     },
     "output_type": "display_data"
    }
   ],
   "source": [
    "a =Plot_tec('C:/Users/u0142106/Desktop/SpaceWeatherSummerSchool/swsss2023/Data_Day2/wfs.t06z.ipe05.20230724_060500.nc')\n",
    "print(a)"
   ]
  },
  {
   "cell_type": "code",
   "execution_count": 101,
   "metadata": {},
   "outputs": [],
   "source": [
    "#Challenge: write the same thing but takes as an argument the different types of plots that are not TEC\n",
    "def Challenge_Funct(Path_to_Dataset,variable_to_plot):\n",
    "    \"\"\"\n",
    "    This function takes a path to a netCDF file and plots it.\n",
    "    __autor__ = 'Antonio Niemela'\n",
    "    __email__ = 'asdf@outlook.com'\n",
    "    \n",
    "    Path_to_Dataset   --> This is the whole path to the netCDF file\n",
    "    variable_to_plot  --> This is the variable that you want to plot as a string\n",
    "                          Possible values = tec , NmF2, HmF2\n",
    "    \n",
    "    \"\"\"\n",
    "    dataset  = nc.Dataset(Path_to_Dataset)  #--> reads the file\n",
    "    for vars in dataset.variables:\n",
    "        if vars == variable_to_plot:\n",
    "                #________________________________________________________________________________________\n",
    "                fig, (ax) = plt.subplots(1, figsize=(15, 5))                              #--> starts the plot \n",
    "                cs = ax.contourf(dataset['lon'][:],\n",
    "                                 dataset['lat'][:],\n",
    "                                 dataset[variable_to_plot][:,:])                          #-->Here is the plotting part\n",
    "                ax.set_title(variable_to_plot, fontsize=20)                                  #-->Sets the sup. title\n",
    "                ax.set_ylabel(\"Latitude\", fontsize=20)                                    #-->Sets the y labels\n",
    "                ax.set_xlabel(\"Longitude\", fontsize=20)                                   #-->Sets x labels\n",
    "                ax.tick_params(axis = 'both', which = 'major', labelsize = 20)            #-->Sets how long the lines for the labels are\n",
    "                cbar = fig.colorbar(cs,ax=ax)                                             #-->gives easier manipulation of the colorbar\n",
    "                cbar.ax.set_ylabel(variable_to_plot+str(\"\\n\" )+str(dataset[variable_to_plot].units)\n",
    "                                   , fontsize=20)                                         #-->Sets the label of the colorbar\n",
    "                cbar.ax.tick_params(labelsize=15)                                         #-->Sets the labelsize for the colorbar\n",
    "                \n",
    "    if __name__ == \"__main__\":\n",
    "    Path_to_files = 'C:/Users/u0142106/Desktop/SpaceWeatherSummerSchool/swsss2023/Data_Day2/wfs.t06z.ipe05.20230724_060500.nc'\n",
    "    variable      = 'NmF2'\n",
    "    Challenge_Funct(Path_to_files,variable)"
   ]
  },
  {
   "cell_type": "code",
   "execution_count": 98,
   "metadata": {},
   "outputs": [
    {
     "name": "stderr",
     "output_type": "stream",
     "text": [
      "<ipython-input-98-d8dff351197b>:2: DeprecationWarning: tostring() is deprecated. Use tobytes() instead.\n",
      "  dataset[variable_to_plot].units\n"
     ]
    },
    {
     "data": {
      "text/plain": [
       "'m-3'"
      ]
     },
     "execution_count": 98,
     "metadata": {},
     "output_type": "execute_result"
    }
   ],
   "source": [
    "variable_to_plot = 'NmF2'\n",
    "dataset[variable_to_plot].units"
   ]
  },
  {
   "cell_type": "code",
   "execution_count": 102,
   "metadata": {},
   "outputs": [
    {
     "name": "stderr",
     "output_type": "stream",
     "text": [
      "<ipython-input-101-f0edf5cb0256>:18: DeprecationWarning: `np.bool` is a deprecated alias for the builtin `bool`. To silence this warning, use `bool` by itself. Doing this will not modify any behavior and is safe. If you specifically wanted the numpy scalar type, use `np.bool_` here.\n",
      "Deprecated in NumPy 1.20; for more details and guidance: https://numpy.org/devdocs/release/1.20.0-notes.html#deprecations\n",
      "  cs = ax.contourf(dataset['lon'][:],\n",
      "<ipython-input-101-f0edf5cb0256>:19: DeprecationWarning: `np.bool` is a deprecated alias for the builtin `bool`. To silence this warning, use `bool` by itself. Doing this will not modify any behavior and is safe. If you specifically wanted the numpy scalar type, use `np.bool_` here.\n",
      "Deprecated in NumPy 1.20; for more details and guidance: https://numpy.org/devdocs/release/1.20.0-notes.html#deprecations\n",
      "  dataset['lat'][:],\n",
      "<ipython-input-101-f0edf5cb0256>:20: DeprecationWarning: `np.bool` is a deprecated alias for the builtin `bool`. To silence this warning, use `bool` by itself. Doing this will not modify any behavior and is safe. If you specifically wanted the numpy scalar type, use `np.bool_` here.\n",
      "Deprecated in NumPy 1.20; for more details and guidance: https://numpy.org/devdocs/release/1.20.0-notes.html#deprecations\n",
      "  dataset[variable_to_plot][:,:])                          #-->Here is the plotting part\n",
      "<ipython-input-101-f0edf5cb0256>:26: DeprecationWarning: tostring() is deprecated. Use tobytes() instead.\n",
      "  cbar.ax.set_ylabel(variable_to_plot+str(\"\\n\" )+str( dataset[variable_to_plot].units)\n"
     ]
    },
    {
     "data": {
      "image/png": "[encoded data removed]",
      "text/plain": [
       "<Figure size 1080x360 with 2 Axes>"
      ]
     },
     "metadata": {
      "needs_background": "light"
     },
     "output_type": "display_data"
    }
   ],
   "source": [
    "Challenge_Funct('C:/Users/u0142106/Desktop/SpaceWeatherSummerSchool/swsss2023/Data_Day2/wfs.t06z.ipe05.20230724_060500.nc',\n",
    "                'NmF2')"
   ]
  },
  {
   "cell_type": "code",
   "execution_count": 149,
   "metadata": {},
   "outputs": [],
   "source": [
    "def TEC_savefig(Path_to_Dataset,Path_to_save,Name_Fig):\n",
    "    \"\"\"\n",
    "    This function takes a path to a netCDF file and plots it \n",
    "    __autor__ = 'Antonio Niemela'\n",
    "    __email__ = 'asdf@outlook.com'\n",
    "    \n",
    "    \n",
    "    Path_to_Dataset   --> This is the whole path to the netCDF file\n",
    "    \n",
    "    \"\"\"\n",
    "    a = Plot_tec(Path_to_Dataset)\n",
    "    print(Path_to_save+Name_Fig)\n",
    "    plt.savefig(Path_to_save+str(Name_Fig),facecolor ='white',dpi = 100,edgecolor ='auto',pad_inches=0.1)\n"
   ]
  },
  {
   "cell_type": "code",
   "execution_count": 150,
   "metadata": {},
   "outputs": [
    {
     "name": "stderr",
     "output_type": "stream",
     "text": [
      "<ipython-input-148-e2950173b849>:15: DeprecationWarning: `np.bool` is a deprecated alias for the builtin `bool`. To silence this warning, use `bool` by itself. Doing this will not modify any behavior and is safe. If you specifically wanted the numpy scalar type, use `np.bool_` here.\n",
      "Deprecated in NumPy 1.20; for more details and guidance: https://numpy.org/devdocs/release/1.20.0-notes.html#deprecations\n",
      "  cs = ax.contourf(dataset['lon'][:],dataset['lat'][:],dataset['tec'][:,:]) #-->Here is the plotting part\n"
     ]
    },
    {
     "name": "stdout",
     "output_type": "stream",
     "text": [
      "C:/Users/u0142106/Desktop/SpaceWeatherSummerSchool/swsss2023/Data_Day2/Trial.png\n"
     ]
    },
    {
     "data": {
      "image/png": "[encoded data removed]",
      "text/plain": [
       "<Figure size 1080x360 with 2 Axes>"
      ]
     },
     "metadata": {
      "needs_background": "light"
     },
     "output_type": "display_data"
    }
   ],
   "source": [
    "TEC_savefig('C:/Users/u0142106/Desktop/SpaceWeatherSummerSchool/swsss2023/Data_Day2/wfs.t06z.ipe05.20230724_060500.nc',\n",
    "            'C:/Users/u0142106/Desktop/SpaceWeatherSummerSchool/swsss2023/Data_Day2/',\n",
    "           'Trial.png')"
   ]
  },
  {
   "cell_type": "code",
   "execution_count": 159,
   "metadata": {},
   "outputs": [],
   "source": [
    "import cv2\n",
    "import numpy as np\n",
    "import glob\n",
    "img_array = []\n",
    "path = 'C:/Users/u0142106/Desktop/SpaceWeatherSummerSchool/swsss2023/Data_Day2/'\n",
    "for filename in glob.glob(path+str('*.png')):\n",
    "    img = cv2.imread(filename)\n",
    "    height, width, layers = img.shape\n",
    "    size = (width,height)\n",
    "    img_array.append(img)\n",
    "out = cv2.VideoWriter(path+str('project_lowres.mp4'),cv2.VideoWriter_fourcc(*'H264'), 10, size)\n",
    "#out = cv2.VideoWriter(path+str('project_lowres.mp4'),cv2.VideoWriter_fourcc(*'H264'), 10, (480,640))\n",
    " \n",
    "for i in range(len(img_array)):\n",
    "    out.write(img_array[i])\n",
    "out.release()"
   ]
  },
  {
   "cell_type": "code",
   "execution_count": 161,
   "metadata": {},
   "outputs": [
    {
     "name": "stdout",
     "output_type": "stream",
     "text": [
      "['C:/Users/u0142106/Desktop/SpaceWeatherSummerSchool/swsss2023/Data_Day2\\\\wfs.t06z.ipe05.20230724_060000.nc.png', 'C:/Users/u0142106/Desktop/SpaceWeatherSummerSchool/swsss2023/Data_Day2\\\\wfs.t06z.ipe05.20230724_060500.nc.png', 'C:/Users/u0142106/Desktop/SpaceWeatherSummerSchool/swsss2023/Data_Day2\\\\wfs.t06z.ipe05.20230724_061000.nc.png', 'C:/Users/u0142106/Desktop/SpaceWeatherSummerSchool/swsss2023/Data_Day2\\\\wfs.t06z.ipe05.20230724_061500.nc.png', 'C:/Users/u0142106/Desktop/SpaceWeatherSummerSchool/swsss2023/Data_Day2\\\\wfs.t06z.ipe05.20230724_062000.nc.png', 'C:/Users/u0142106/Desktop/SpaceWeatherSummerSchool/swsss2023/Data_Day2\\\\wfs.t06z.ipe05.20230724_062500.nc.png', 'C:/Users/u0142106/Desktop/SpaceWeatherSummerSchool/swsss2023/Data_Day2\\\\wfs.t06z.ipe05.20230724_063000.nc.png', 'C:/Users/u0142106/Desktop/SpaceWeatherSummerSchool/swsss2023/Data_Day2\\\\wfs.t06z.ipe05.20230724_063500.nc.png', 'C:/Users/u0142106/Desktop/SpaceWeatherSummerSchool/swsss2023/Data_Day2\\\\wfs.t06z.ipe05.20230724_064000.nc.png', 'C:/Users/u0142106/Desktop/SpaceWeatherSummerSchool/swsss2023/Data_Day2\\\\wfs.t06z.ipe05.20230724_064500.nc.png', 'C:/Users/u0142106/Desktop/SpaceWeatherSummerSchool/swsss2023/Data_Day2\\\\wfs.t06z.ipe05.20230724_065000.nc.png', 'C:/Users/u0142106/Desktop/SpaceWeatherSummerSchool/swsss2023/Data_Day2\\\\wfs.t06z.ipe05.20230724_065500.nc.png']\n",
      "C:/Users/u0142106/Desktop/SpaceWeatherSummerSchool/swsss2023/Data_Day2/\n"
     ]
    }
   ],
   "source": [
    "import matplotlib.pyplot as plt\n",
    "import imageio\n",
    "print(glob.glob(path+str('*.png')))\n",
    "print(path)\n",
    "#path = 'C:/Users/u0142106/Desktop/Barcelona_Project/Good_runs/2000_1000/Shock/Plots/'\n",
    "frames = []\n",
    "for filename in glob.glob(path+str('*.png')):\n",
    "    image = imageio.imread(filename)\n",
    "    frames.append(image)\n",
    "imageio.mimsave(path+str('/example.gif'), # output gif\n",
    "                frames,          # array of input frames\n",
    "                fps = 15)         # optional: frames per second"
   ]
  }
 ],
 "metadata": {
  "kernelspec": {
   "display_name": "Python 3",
   "language": "python",
   "name": "python3"
  },
  "language_info": {
   "codemirror_mode": {
    "name": "ipython",
    "version": 3
   },
   "file_extension": ".py",
   "mimetype": "text/x-python",
   "name": "python",
   "nbconvert_exporter": "python",
   "pygments_lexer": "ipython3",
   "version": "3.8.5"
  }
 },
 "nbformat": 4,
 "nbformat_minor": 4
}
